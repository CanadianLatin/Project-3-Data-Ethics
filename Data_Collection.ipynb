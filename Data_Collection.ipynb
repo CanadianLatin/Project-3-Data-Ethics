{
 "cells": [
  {
   "cell_type": "code",
   "execution_count": 28,
   "metadata": {},
   "outputs": [],
   "source": [
    "import requests\n",
    "import json\n",
    "from config import api_key_omdb\n",
    "from config import api_key_tmdb"
   ]
  },
  {
   "cell_type": "code",
   "execution_count": 29,
   "metadata": {},
   "outputs": [],
   "source": [
    "# New Dependency! Use this to pretty print the JSON\n",
    "# https://docs.python.org/3/library/pprint.html\n",
    "from pprint import pprint"
   ]
  },
  {
   "attachments": {},
   "cell_type": "markdown",
   "metadata": {},
   "source": [
    "# OMDB"
   ]
  },
  {
   "cell_type": "code",
   "execution_count": 30,
   "metadata": {},
   "outputs": [],
   "source": [
    "# Note that the ?t= is a query param for the t-itle of the\n",
    "# movie we want to search for.\n",
    "url = \"http://www.omdbapi.com/?t=\"\n",
    "api_key_omdb2 = \"&apikey=\" + api_key_omdb"
   ]
  },
  {
   "cell_type": "code",
   "execution_count": 37,
   "metadata": {},
   "outputs": [],
   "source": [
    "# Performing a GET request similar to the one we executed\n",
    "# earlier\n",
    "response = requests.get(url + \"Batman\" + api_key_omdb2)"
   ]
  },
  {
   "cell_type": "code",
   "execution_count": 38,
   "metadata": {},
   "outputs": [
    {
     "name": "stdout",
     "output_type": "stream",
     "text": [
      "{'Actors': 'Michael Keaton, Jack Nicholson, Kim Basinger',\n",
      " 'Awards': 'Won 1 Oscar. 10 wins & 26 nominations total',\n",
      " 'BoxOffice': '$251,409,241',\n",
      " 'Country': 'United States, United Kingdom',\n",
      " 'DVD': '22 Aug 1997',\n",
      " 'Director': 'Tim Burton',\n",
      " 'Genre': 'Action, Adventure',\n",
      " 'Language': 'English, French, Spanish',\n",
      " 'Metascore': '69',\n",
      " 'Plot': 'The Dark Knight of Gotham City begins his war on crime with his '\n",
      "         'first major enemy being Jack Napier, a criminal who becomes the '\n",
      "         'clownishly homicidal Joker.',\n",
      " 'Poster': 'https://m.media-amazon.com/images/M/MV5BZDNjOGNhN2UtNmNhMC00YjU4LWEzMmUtNzRkM2RjN2RiMjc5XkEyXkFqcGdeQXVyMTU0OTM5ODc1._V1_SX300.jpg',\n",
      " 'Production': 'N/A',\n",
      " 'Rated': 'PG-13',\n",
      " 'Ratings': [{'Source': 'Internet Movie Database', 'Value': '7.5/10'},\n",
      "             {'Source': 'Rotten Tomatoes', 'Value': '73%'},\n",
      "             {'Source': 'Metacritic', 'Value': '69/100'}],\n",
      " 'Released': '23 Jun 1989',\n",
      " 'Response': 'True',\n",
      " 'Runtime': '126 min',\n",
      " 'Title': 'Batman',\n",
      " 'Type': 'movie',\n",
      " 'Website': 'N/A',\n",
      " 'Writer': 'Bob Kane, Sam Hamm, Warren Skaaren',\n",
      " 'Year': '1989',\n",
      " 'imdbID': 'tt0096895',\n",
      " 'imdbRating': '7.5',\n",
      " 'imdbVotes': '384,586'}\n"
     ]
    }
   ],
   "source": [
    "# Converting the response to JSON, and printing the result.\n",
    "data_omdb = response.json()\n",
    "pprint(data_omdb)"
   ]
  },
  {
   "cell_type": "code",
   "execution_count": 33,
   "metadata": {},
   "outputs": [
    {
     "name": "stdout",
     "output_type": "stream",
     "text": [
      "Movie  directed by James Cameron.\n",
      "Movie was released in United Kingdom, United States.\n"
     ]
    }
   ],
   "source": [
    "# Print a few keys from the response JSON.\n",
    "print(f\"Movie  directed by {data_omdb['Director']}.\")\n",
    "print(f\"Movie was released in {data_omdb['imdbID']}.\")"
   ]
  },
  {
   "attachments": {},
   "cell_type": "markdown",
   "metadata": {},
   "source": [
    "# TMDB"
   ]
  },
  {
   "cell_type": "code",
   "execution_count": 39,
   "metadata": {},
   "outputs": [],
   "source": [
    "# Note that the ?t= is a query param for the t-itle of the\n",
    "# movie we want to search for.\n",
    "url2 = \"https://api.themoviedb.org/3/find/\"\n",
    "api_key_tmdb2 = \"?api_key=\" + api_key_tmdb\n",
    "final_url = \"&language=en-US&external_source=imdb_id\"\n"
   ]
  },
  {
   "cell_type": "code",
   "execution_count": 40,
   "metadata": {},
   "outputs": [
    {
     "data": {
      "text/plain": [
       "'https://api.themoviedb.org/3/find/tt0096895?api_key=db05765d08db6d23fb65b5b22d8d704e&language=en-US&external_source=imdb_id'"
      ]
     },
     "execution_count": 40,
     "metadata": {},
     "output_type": "execute_result"
    }
   ],
   "source": [
    "# Performing a GET request similar to the one we executed\n",
    "# earlier\n",
    "response = requests.get(url2 + \"tt0096895\" + api_key_tmdb2 + final_url)\n",
    "sss = url2 + \"tt0096895\" + api_key_tmdb2 + final_url\n",
    "sss\n",
    "\n",
    "# https://api.themoviedb.org/3/movie/550?api_key=db05765d08db6d23fb65b5b22d8d704e\n",
    "\n",
    "\n",
    "# https://api.themoviedb.org/3/find/tt0090605?api_key=db05765d08db6d23fb65b5b22d8d704e&language=en-US&external_source=imdb_id\n",
    "\n"
   ]
  },
  {
   "cell_type": "code",
   "execution_count": 41,
   "metadata": {},
   "outputs": [
    {
     "name": "stdout",
     "output_type": "stream",
     "text": [
      "{'movie_results': [{'adult': False,\n",
      "                    'backdrop_path': '/yHfezFdN9kNf2KvyUcZfEhtnFMP.jpg',\n",
      "                    'genre_ids': [14, 28, 80],\n",
      "                    'id': 268,\n",
      "                    'media_type': 'movie',\n",
      "                    'original_language': 'en',\n",
      "                    'original_title': 'Batman',\n",
      "                    'overview': 'Batman must face his most ruthless nemesis '\n",
      "                                'when a deformed madman calling himself \"The '\n",
      "                                'Joker\" seizes control of Gotham\\'s criminal '\n",
      "                                'underworld.',\n",
      "                    'popularity': 55.643,\n",
      "                    'poster_path': '/cij4dd21v2Rk2YtUQbV5kW69WB2.jpg',\n",
      "                    'release_date': '1989-06-23',\n",
      "                    'title': 'Batman',\n",
      "                    'video': False,\n",
      "                    'vote_average': 7.216,\n",
      "                    'vote_count': 6840}],\n",
      " 'person_results': [],\n",
      " 'tv_episode_results': [],\n",
      " 'tv_results': [],\n",
      " 'tv_season_results': []}\n"
     ]
    }
   ],
   "source": [
    "# Converting the response to JSON, and printing the result.\n",
    "data_tmdb = response.json()\n",
    "pprint(data_tmdb)"
   ]
  }
 ],
 "metadata": {
  "kernelspec": {
   "display_name": "Python 3",
   "language": "python",
   "name": "python3"
  },
  "language_info": {
   "codemirror_mode": {
    "name": "ipython",
    "version": 3
   },
   "file_extension": ".py",
   "mimetype": "text/x-python",
   "name": "python",
   "nbconvert_exporter": "python",
   "pygments_lexer": "ipython3",
   "version": "3.7.7"
  },
  "varInspector": {
   "cols": {
    "lenName": 16,
    "lenType": 16,
    "lenVar": 40
   },
   "kernels_config": {
    "python": {
     "delete_cmd_postfix": "",
     "delete_cmd_prefix": "del ",
     "library": "var_list.py",
     "varRefreshCmd": "print(var_dic_list())"
    },
    "r": {
     "delete_cmd_postfix": ") ",
     "delete_cmd_prefix": "rm(",
     "library": "var_list.r",
     "varRefreshCmd": "cat(var_dic_list()) "
    }
   },
   "types_to_exclude": [
    "module",
    "function",
    "builtin_function_or_method",
    "instance",
    "_Feature"
   ],
   "window_display": false
  }
 },
 "nbformat": 4,
 "nbformat_minor": 2
}
