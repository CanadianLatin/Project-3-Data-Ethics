{
 "cells": [
  {
   "cell_type": "code",
   "execution_count": 1,
   "metadata": {},
   "outputs": [],
   "source": [
    "import requests\n",
    "import json\n",
    "import pprint as pprint\n",
    "from config import api_key_omdb\n",
    "from config import api_key_tmdb\n",
    "import pandas as pd"
   ]
  },
  {
   "cell_type": "code",
   "execution_count": 2,
   "metadata": {},
   "outputs": [],
   "source": [
    "# New Dependency! Use this to pretty print the JSON\n",
    "# https://docs.python.org/3/library/pprint.html\n",
    "from pprint import pprint"
   ]
  },
  {
   "attachments": {},
   "cell_type": "markdown",
   "metadata": {},
   "source": [
    "# TMDB"
   ]
  },
  {
   "cell_type": "code",
   "execution_count": 66,
   "metadata": {},
   "outputs": [
    {
     "name": "stdout",
     "output_type": "stream",
     "text": [
      "https://api.themoviedb.org/3/discover/movie?api_key=db05765d08db6d23fb65b5b22d8d704e&page=35&vote_count.gte=5000\n"
     ]
    }
   ],
   "source": [
    "# Note that the ?t= is a query param for the t-itle of the\n",
    "# movie we want to search for.\n",
    "url_tmdb=f'https://api.themoviedb.org/3/discover/movie?api_key={api_key_tmdb}&page=35&vote_count.gte=5000'\n",
    "\n",
    "print(url_tmdb)\n"
   ]
  },
  {
   "cell_type": "code",
   "execution_count": 67,
   "metadata": {},
   "outputs": [
    {
     "name": "stdout",
     "output_type": "stream",
     "text": [
      "<Response [200]>\n"
     ]
    }
   ],
   "source": [
    "# Performing a GET request similar to the one we executed\n",
    "# earlier\n",
    "response = requests.get(url_tmdb)\n",
    "print(response)\n",
    "\n"
   ]
  },
  {
   "cell_type": "code",
   "execution_count": 68,
   "metadata": {},
   "outputs": [
    {
     "name": "stdout",
     "output_type": "stream",
     "text": [
      "{'page': 35,\n",
      " 'results': [{'adult': False,\n",
      "              'backdrop_path': '/pcWxKfFNCznTKYy0E8M9nG1cwL4.jpg',\n",
      "              'genre_ids': [18, 35],\n",
      "              'id': 391713,\n",
      "              'original_language': 'en',\n",
      "              'original_title': 'Lady Bird',\n",
      "              'overview': 'Lady Bird McPherson, a strong willed, deeply '\n",
      "                          'opinionated, artistic 17 year old comes of age in '\n",
      "                          'Sacramento. Her relationship with her mother and '\n",
      "                          'her upbringing are questioned and tested as she '\n",
      "                          'plans to head off to college.',\n",
      "              'popularity': 31.095,\n",
      "              'poster_path': '/iySFtKLrWvVzXzlFj7x1zalxi5G.jpg',\n",
      "              'release_date': '2017-09-01',\n",
      "              'title': 'Lady Bird',\n",
      "              'video': False,\n",
      "              'vote_average': 7.3,\n",
      "              'vote_count': 7560},\n",
      "             {'adult': False,\n",
      "              'backdrop_path': '/iVk4mVKwNE66JbBcoDwcYFvuUXM.jpg',\n",
      "              'genre_ids': [18, 53],\n",
      "              'id': 68734,\n",
      "              'original_language': 'en',\n",
      "              'original_title': 'Argo',\n",
      "              'overview': 'As the Iranian revolution reaches a boiling point, '\n",
      "                          \"a CIA 'exfiltration' specialist concocts a risky \"\n",
      "                          'plan to free six Americans who have found shelter '\n",
      "                          'at the home of the Canadian ambassador.',\n",
      "              'popularity': 31.079,\n",
      "              'poster_path': '/9LcnmIeKUfKeAxeCY82W9Jug416.jpg',\n",
      "              'release_date': '2012-10-11',\n",
      "              'title': 'Argo',\n",
      "              'video': False,\n",
      "              'vote_average': 7.3,\n",
      "              'vote_count': 7540},\n",
      "             {'adult': False,\n",
      "              'backdrop_path': '/9Y9K6LeLrMeofOvX7hZW36Aj3OG.jpg',\n",
      "              'genre_ids': [35, 10749],\n",
      "              'id': 194,\n",
      "              'original_language': 'fr',\n",
      "              'original_title': \"Le Fabuleux Destin d'Amélie Poulain\",\n",
      "              'overview': 'At a tiny Parisian café, the adorable yet painfully '\n",
      "                          'shy Amélie accidentally discovers a gift for '\n",
      "                          'helping others. Soon Amelie is spending her days as '\n",
      "                          'a matchmaker, guardian angel, and all-around '\n",
      "                          'do-gooder. But when she bumps into a handsome '\n",
      "                          'stranger, will she find the courage to become the '\n",
      "                          'star of her very own love story?',\n",
      "              'popularity': 31.045,\n",
      "              'poster_path': '/oTKduWL2tpIKEmkAqF4mFEAWAsv.jpg',\n",
      "              'release_date': '2001-04-25',\n",
      "              'title': 'Amélie',\n",
      "              'video': False,\n",
      "              'vote_average': 7.9,\n",
      "              'vote_count': 10410},\n",
      "             {'adult': False,\n",
      "              'backdrop_path': '/bof71DUdBb5FwTylar4rnIVd8z.jpg',\n",
      "              'genre_ids': [18, 80],\n",
      "              'id': 168672,\n",
      "              'original_language': 'en',\n",
      "              'original_title': 'American Hustle',\n",
      "              'overview': 'A conman and his seductive partner are forced to '\n",
      "                          'work for a wild FBI agent, who pushes them into a '\n",
      "                          'world of Jersey power-brokers and the Mafia.',\n",
      "              'popularity': 31.018,\n",
      "              'poster_path': '/koXGRfatN0tURFWMA0Keb0p0Gtg.jpg',\n",
      "              'release_date': '2013-12-03',\n",
      "              'title': 'American Hustle',\n",
      "              'video': False,\n",
      "              'vote_average': 6.8,\n",
      "              'vote_count': 6651},\n",
      "             {'adult': False,\n",
      "              'backdrop_path': '/c6yfABGVKuB5cjoOwdX4AJMlzUz.jpg',\n",
      "              'genre_ids': [35, 14],\n",
      "              'id': 620,\n",
      "              'original_language': 'en',\n",
      "              'original_title': 'Ghostbusters',\n",
      "              'overview': 'After losing their academic posts at a prestigious '\n",
      "                          'university, a team of parapsychologists goes into '\n",
      "                          'business as proton-pack-toting \"ghostbusters\" who '\n",
      "                          'exterminate ghouls, hobgoblins and supernatural '\n",
      "                          'pests of all stripes. An ad campaign pays off when '\n",
      "                          'a knockout cellist hires the squad to purge her '\n",
      "                          'swanky digs of demons that appear to be living in '\n",
      "                          'her refrigerator.',\n",
      "              'popularity': 30.87,\n",
      "              'poster_path': '/7E8nLijS9AwwUEPu2oFYOVKhdFA.jpg',\n",
      "              'release_date': '1984-06-08',\n",
      "              'title': 'Ghostbusters',\n",
      "              'video': False,\n",
      "              'vote_average': 7.5,\n",
      "              'vote_count': 7880},\n",
      "             {'adult': False,\n",
      "              'backdrop_path': '/ic50CVnRJY3yE9M8xzwlS7ikPga.jpg',\n",
      "              'genre_ids': [12, 14, 28, 53],\n",
      "              'id': 1995,\n",
      "              'original_language': 'en',\n",
      "              'original_title': 'Lara Croft: Tomb Raider',\n",
      "              'overview': 'English aristocrat Lara Croft is skilled in '\n",
      "                          'hand-to-hand combat and in the middle of a battle '\n",
      "                          'with a secret society. The shapely archaeologist '\n",
      "                          'moonlights as a tomb raider to recover lost '\n",
      "                          'antiquities and meets her match in the evil Powell, '\n",
      "                          \"who's in search of a powerful relic.\",\n",
      "              'popularity': 30.818,\n",
      "              'poster_path': '/7WyMvoqPYJe5g1ENsbLTv40pUrX.jpg',\n",
      "              'release_date': '2001-06-11',\n",
      "              'title': 'Lara Croft: Tomb Raider',\n",
      "              'video': False,\n",
      "              'vote_average': 5.9,\n",
      "              'vote_count': 5543},\n",
      "             {'adult': False,\n",
      "              'backdrop_path': '/2Gq4teAIkVVv0kc6JsfU66C3VOJ.jpg',\n",
      "              'genre_ids': [53, 18, 9648],\n",
      "              'id': 9741,\n",
      "              'original_language': 'en',\n",
      "              'original_title': 'Unbreakable',\n",
      "              'overview': 'An ordinary man makes an extraordinary discovery '\n",
      "                          'when a train accident leaves his fellow passengers '\n",
      "                          'dead — and him unscathed. The answer to this '\n",
      "                          'mystery could lie with the mysterious Elijah Price, '\n",
      "                          'a man who suffers from a disease that renders his '\n",
      "                          'bones as fragile as glass.',\n",
      "              'popularity': 30.717,\n",
      "              'poster_path': '/mLuehrGLiK5zFCyRmDDOH6gbfPf.jpg',\n",
      "              'release_date': '2000-11-22',\n",
      "              'title': 'Unbreakable',\n",
      "              'video': False,\n",
      "              'vote_average': 7.1,\n",
      "              'vote_count': 8338},\n",
      "             {'adult': False,\n",
      "              'backdrop_path': '/mG8PDdaCANAVQMrjTKc69Z7NjF3.jpg',\n",
      "              'genre_ids': [18],\n",
      "              'id': 87502,\n",
      "              'original_language': 'en',\n",
      "              'original_title': 'Flight',\n",
      "              'overview': 'Commercial airline pilot Whip Whitaker has a '\n",
      "                          \"problem with drugs and alcohol, though so far he's \"\n",
      "                          'managed to complete his flights safely. His luck '\n",
      "                          'runs out when a disastrous mechanical malfunction '\n",
      "                          'sends his plane hurtling toward the ground. Whip '\n",
      "                          'pulls off a miraculous crash-landing that results '\n",
      "                          'in only six lives lost. Shaken to the core, Whip '\n",
      "                          'vows to get sober -- but when the crash '\n",
      "                          'investigation exposes his addiction, he finds '\n",
      "                          'himself in an even worse situation.',\n",
      "              'popularity': 30.539,\n",
      "              'poster_path': '/1AjXgBM2lkpG3FLQO0f6AK3Bi1e.jpg',\n",
      "              'release_date': '2012-11-02',\n",
      "              'title': 'Flight',\n",
      "              'video': False,\n",
      "              'vote_average': 6.8,\n",
      "              'vote_count': 5411},\n",
      "             {'adult': False,\n",
      "              'backdrop_path': '/egyi9TQjLhNEQuEsK1dXovdHOHL.jpg',\n",
      "              'genre_ids': [10749, 35, 18],\n",
      "              'id': 509,\n",
      "              'original_language': 'en',\n",
      "              'original_title': 'Notting Hill',\n",
      "              'overview': 'William Thacker is a London bookstore owner whose '\n",
      "                          'humdrum existence is thrown into romantic turmoil '\n",
      "                          'when famous American actress Anna Scott appears in '\n",
      "                          'his shop. A chance encounter over spilled orange '\n",
      "                          'juice leads to a kiss that blossoms into a '\n",
      "                          'full-blown affair. As the average bloke and '\n",
      "                          'glamorous movie star draw closer and closer '\n",
      "                          'together, they struggle to reconcile their '\n",
      "                          'radically different lifestyles in the name of love.',\n",
      "              'popularity': 30.483,\n",
      "              'poster_path': '/fQqfLeD7h4nCXK0N5HEa4dAExk1.jpg',\n",
      "              'release_date': '1999-05-21',\n",
      "              'title': 'Notting Hill',\n",
      "              'video': False,\n",
      "              'vote_average': 7.3,\n",
      "              'vote_count': 5369},\n",
      "             {'adult': False,\n",
      "              'backdrop_path': '/7gfDVfaw0VaIkUGiEH13o3TIC7A.jpg',\n",
      "              'genre_ids': [18, 9648, 37],\n",
      "              'id': 273248,\n",
      "              'original_language': 'en',\n",
      "              'original_title': 'The Hateful Eight',\n",
      "              'overview': 'Bounty hunters seek shelter from a raging blizzard '\n",
      "                          'and get caught up in a plot of betrayal and '\n",
      "                          'deception.',\n",
      "              'popularity': 30.395,\n",
      "              'poster_path': '/jIywvdPjia2t3eKYbjVTcwBQlG8.jpg',\n",
      "              'release_date': '2015-12-25',\n",
      "              'title': 'The Hateful Eight',\n",
      "              'video': False,\n",
      "              'vote_average': 7.7,\n",
      "              'vote_count': 12897},\n",
      "             {'adult': False,\n",
      "              'backdrop_path': '/tweDJNQzBGgsWVF5MC8JhSAk07p.jpg',\n",
      "              'genre_ids': [53, 878, 27],\n",
      "              'id': 570670,\n",
      "              'original_language': 'en',\n",
      "              'original_title': 'The Invisible Man',\n",
      "              'overview': \"When Cecilia's abusive ex takes his own life and \"\n",
      "                          'leaves her his fortune, she suspects his death was '\n",
      "                          'a hoax. As a series of coincidences turn lethal, '\n",
      "                          'Cecilia works to prove that she is being hunted by '\n",
      "                          'someone nobody can see.',\n",
      "              'popularity': 30.268,\n",
      "              'poster_path': '/5EufsDwXdY2CVttYOk2WtYhgKpa.jpg',\n",
      "              'release_date': '2020-02-26',\n",
      "              'title': 'The Invisible Man',\n",
      "              'video': False,\n",
      "              'vote_average': 7.1,\n",
      "              'vote_count': 5074},\n",
      "             {'adult': False,\n",
      "              'backdrop_path': '/5UX6M0aEphiW6Xmy5rpYX75glbo.jpg',\n",
      "              'genre_ids': [14, 27, 35],\n",
      "              'id': 927,\n",
      "              'original_language': 'en',\n",
      "              'original_title': 'Gremlins',\n",
      "              'overview': 'When Billy Peltzer is given a strange but adorable '\n",
      "                          'pet named Gizmo for Christmas, he inadvertently '\n",
      "                          'breaks the three important rules of caring for a '\n",
      "                          'Mogwai, and unleashes a horde of mischievous '\n",
      "                          'gremlins on a small town.',\n",
      "              'popularity': 30.178,\n",
      "              'poster_path': '/gDSfs0hqAQVJ9jIHbX3AJ3StTVG.jpg',\n",
      "              'release_date': '1984-06-07',\n",
      "              'title': 'Gremlins',\n",
      "              'video': False,\n",
      "              'vote_average': 7.1,\n",
      "              'vote_count': 5615},\n",
      "             {'adult': False,\n",
      "              'backdrop_path': '/pYw10zrqfkdm3yD9JTO6vEGQhKy.jpg',\n",
      "              'genre_ids': [12, 14, 10751],\n",
      "              'id': 8844,\n",
      "              'original_language': 'en',\n",
      "              'original_title': 'Jumanji',\n",
      "              'overview': 'When siblings Judy and Peter discover an enchanted '\n",
      "                          'board game that opens the door to a magical world, '\n",
      "                          \"they unwittingly invite Alan -- an adult who's been \"\n",
      "                          'trapped inside the game for 26 years -- into their '\n",
      "                          \"living room. Alan's only hope for freedom is to \"\n",
      "                          'finish the game, which proves risky as all three '\n",
      "                          'find themselves running from giant rhinoceroses, '\n",
      "                          'evil monkeys and other terrifying creatures.',\n",
      "              'popularity': 30.173,\n",
      "              'poster_path': '/vgpXmVaVyUL7GGiDeiK1mKEKzcX.jpg',\n",
      "              'release_date': '1995-12-15',\n",
      "              'title': 'Jumanji',\n",
      "              'video': False,\n",
      "              'vote_average': 7.2,\n",
      "              'vote_count': 9545},\n",
      "             {'adult': False,\n",
      "              'backdrop_path': '/5pGWjnM62Zs0S1xRf3TDL1Xizr.jpg',\n",
      "              'genre_ids': [27, 28, 878],\n",
      "              'id': 1576,\n",
      "              'original_language': 'en',\n",
      "              'original_title': 'Resident Evil',\n",
      "              'overview': 'When a virus leaks from a top-secret facility, '\n",
      "                          'turning all resident researchers into ravenous '\n",
      "                          'zombies and their lab animals into mutated hounds '\n",
      "                          'from hell, the government sends in an elite '\n",
      "                          'military task force to contain the outbreak. Alice '\n",
      "                          'and Rain are charged with leading the mission. But '\n",
      "                          'they only have three hours before the pathogen '\n",
      "                          'becomes airborne and infects the world.',\n",
      "              'popularity': 30.082,\n",
      "              'poster_path': '/1UKNef590A0ZaMnxsscIcWuK1Em.jpg',\n",
      "              'release_date': '2002-03-15',\n",
      "              'title': 'Resident Evil',\n",
      "              'video': False,\n",
      "              'vote_average': 6.6,\n",
      "              'vote_count': 5600},\n",
      "             {'adult': False,\n",
      "              'backdrop_path': '/i7UCf0ysjbYYaqcSKUox9BJz4Kp.jpg',\n",
      "              'genre_ids': [35, 18],\n",
      "              'id': 318846,\n",
      "              'original_language': 'en',\n",
      "              'original_title': 'The Big Short',\n",
      "              'overview': 'The men who made millions from a global economic '\n",
      "                          'meltdown.',\n",
      "              'popularity': 29.903,\n",
      "              'poster_path': '/isuQWbJPbjybBEWdcCaBUPmU0XO.jpg',\n",
      "              'release_date': '2015-12-11',\n",
      "              'title': 'The Big Short',\n",
      "              'video': False,\n",
      "              'vote_average': 7.3,\n",
      "              'vote_count': 8016},\n",
      "             {'adult': False,\n",
      "              'backdrop_path': '/d2nWERbNIKA9dBDWbRReK0cRBD4.jpg',\n",
      "              'genre_ids': [27, 35, 10749],\n",
      "              'id': 82654,\n",
      "              'original_language': 'en',\n",
      "              'original_title': 'Warm Bodies',\n",
      "              'overview': 'After a zombie becomes involved with the girlfriend '\n",
      "                          'of one of his victims, their romance sets in motion '\n",
      "                          'a sequence of events that might transform the '\n",
      "                          'entire lifeless world.',\n",
      "              'popularity': 29.863,\n",
      "              'poster_path': '/pvVpl38YOBDOANb0pWbXFb8X3iZ.jpg',\n",
      "              'release_date': '2013-01-31',\n",
      "              'title': 'Warm Bodies',\n",
      "              'video': False,\n",
      "              'vote_average': 6.4,\n",
      "              'vote_count': 5628},\n",
      "             {'adult': False,\n",
      "              'backdrop_path': '/8nLxekHFuZfewaHGoVKYqbv8Njk.jpg',\n",
      "              'genre_ids': [18, 35],\n",
      "              'id': 194662,\n",
      "              'original_language': 'en',\n",
      "              'original_title': 'Birdman or (The Unexpected Virtue of '\n",
      "                                'Ignorance)',\n",
      "              'overview': 'A fading actor best known for his portrayal of a '\n",
      "                          'popular superhero attempts to mount a comeback by '\n",
      "                          'appearing in a Broadway play. As opening night '\n",
      "                          'approaches, his attempts to become more altruistic, '\n",
      "                          'rebuild his career, and reconnect with friends and '\n",
      "                          'family prove more difficult than expected.',\n",
      "              'popularity': 29.556,\n",
      "              'poster_path': '/rHUg2AuIuLSIYMYFgavVwqt1jtc.jpg',\n",
      "              'release_date': '2014-10-17',\n",
      "              'title': 'Birdman or (The Unexpected Virtue of Ignorance)',\n",
      "              'video': False,\n",
      "              'vote_average': 7.5,\n",
      "              'vote_count': 11868},\n",
      "             {'adult': False,\n",
      "              'backdrop_path': '/9XSEL3EMC2D8k4UcYBn8etgRxPg.jpg',\n",
      "              'genre_ids': [27, 9648, 35],\n",
      "              'id': 440021,\n",
      "              'original_language': 'en',\n",
      "              'original_title': 'Happy Death Day',\n",
      "              'overview': 'Caught in a bizarre and terrifying time warp, '\n",
      "                          'college student Tree finds herself repeatedly '\n",
      "                          'reliving the day of her murder, ultimately '\n",
      "                          'realizing that she must identify the killer and the '\n",
      "                          'reason for her death before her chances of survival '\n",
      "                          'run out.',\n",
      "              'popularity': 29.536,\n",
      "              'poster_path': '/cTaEIUYTt52ooq9quVbAQ7NpGwo.jpg',\n",
      "              'release_date': '2017-10-12',\n",
      "              'title': 'Happy Death Day',\n",
      "              'video': False,\n",
      "              'vote_average': 6.6,\n",
      "              'vote_count': 5561},\n",
      "             {'adult': False,\n",
      "              'backdrop_path': '/3KyAxlakmcyHWqlcxgIxMQnSilk.jpg',\n",
      "              'genre_ids': [18, 10749],\n",
      "              'id': 142,\n",
      "              'original_language': 'en',\n",
      "              'original_title': 'Brokeback Mountain',\n",
      "              'overview': 'Rodeo cowboy Jack and ranch hand Ennis are hired as '\n",
      "                          'sheepherders in 1963 Wyoming. One night on '\n",
      "                          'Brokeback Mountain, they spark a physical '\n",
      "                          'relationship. Though Ennis marries his longtime '\n",
      "                          'sweetheart and Jack marries a fellow rodeo rider, '\n",
      "                          'they keep up their tortured, sporadic love affair '\n",
      "                          'for 20 years.',\n",
      "              'popularity': 29.381,\n",
      "              'poster_path': '/fsbzfe9eLOEl5rJX04nPEr1eoAi.jpg',\n",
      "              'release_date': '2005-09-10',\n",
      "              'title': 'Brokeback Mountain',\n",
      "              'video': False,\n",
      "              'vote_average': 7.8,\n",
      "              'vote_count': 6205},\n",
      "             {'adult': False,\n",
      "              'backdrop_path': '/hu4psJoKxDYezvvS4GlLF531fom.jpg',\n",
      "              'genre_ids': [14, 28, 53],\n",
      "              'id': 400106,\n",
      "              'original_language': 'en',\n",
      "              'original_title': 'Bright',\n",
      "              'overview': 'In an alternate present-day where magical creatures '\n",
      "                          'live among us, two L.A. cops become embroiled in a '\n",
      "                          'prophesied turf battle.',\n",
      "              'popularity': 29.194,\n",
      "              'poster_path': '/whkT53Sv2vKAUiknQ13pqcWaPXB.jpg',\n",
      "              'release_date': '2017-12-22',\n",
      "              'title': 'Bright',\n",
      "              'video': False,\n",
      "              'vote_average': 6.2,\n",
      "              'vote_count': 5169}],\n",
      " 'total_pages': 40,\n",
      " 'total_results': 793}\n"
     ]
    }
   ],
   "source": [
    "# Converting the response to JSON, and printing the result.\n",
    "data_tmdb = response.json()\n",
    "pprint(data_tmdb)"
   ]
  },
  {
   "cell_type": "code",
   "execution_count": 76,
   "metadata": {},
   "outputs": [
    {
     "name": "stdout",
     "output_type": "stream",
     "text": [
      "https://api.themoviedb.org/3/discover/movie?api_key=db05765d08db6d23fb65b5b22d8d704e&page=1&vote_count.gte=5000\n",
      "https://api.themoviedb.org/3/discover/movie?api_key=db05765d08db6d23fb65b5b22d8d704e&page=2&vote_count.gte=5000\n",
      "https://api.themoviedb.org/3/discover/movie?api_key=db05765d08db6d23fb65b5b22d8d704e&page=3&vote_count.gte=5000\n",
      "https://api.themoviedb.org/3/discover/movie?api_key=db05765d08db6d23fb65b5b22d8d704e&page=4&vote_count.gte=5000\n",
      "https://api.themoviedb.org/3/discover/movie?api_key=db05765d08db6d23fb65b5b22d8d704e&page=5&vote_count.gte=5000\n",
      "https://api.themoviedb.org/3/discover/movie?api_key=db05765d08db6d23fb65b5b22d8d704e&page=6&vote_count.gte=5000\n",
      "https://api.themoviedb.org/3/discover/movie?api_key=db05765d08db6d23fb65b5b22d8d704e&page=7&vote_count.gte=5000\n",
      "https://api.themoviedb.org/3/discover/movie?api_key=db05765d08db6d23fb65b5b22d8d704e&page=8&vote_count.gte=5000\n",
      "https://api.themoviedb.org/3/discover/movie?api_key=db05765d08db6d23fb65b5b22d8d704e&page=9&vote_count.gte=5000\n",
      "https://api.themoviedb.org/3/discover/movie?api_key=db05765d08db6d23fb65b5b22d8d704e&page=10&vote_count.gte=5000\n",
      "https://api.themoviedb.org/3/discover/movie?api_key=db05765d08db6d23fb65b5b22d8d704e&page=11&vote_count.gte=5000\n",
      "https://api.themoviedb.org/3/discover/movie?api_key=db05765d08db6d23fb65b5b22d8d704e&page=12&vote_count.gte=5000\n",
      "https://api.themoviedb.org/3/discover/movie?api_key=db05765d08db6d23fb65b5b22d8d704e&page=13&vote_count.gte=5000\n",
      "https://api.themoviedb.org/3/discover/movie?api_key=db05765d08db6d23fb65b5b22d8d704e&page=14&vote_count.gte=5000\n",
      "https://api.themoviedb.org/3/discover/movie?api_key=db05765d08db6d23fb65b5b22d8d704e&page=15&vote_count.gte=5000\n",
      "https://api.themoviedb.org/3/discover/movie?api_key=db05765d08db6d23fb65b5b22d8d704e&page=16&vote_count.gte=5000\n",
      "https://api.themoviedb.org/3/discover/movie?api_key=db05765d08db6d23fb65b5b22d8d704e&page=17&vote_count.gte=5000\n",
      "https://api.themoviedb.org/3/discover/movie?api_key=db05765d08db6d23fb65b5b22d8d704e&page=18&vote_count.gte=5000\n",
      "https://api.themoviedb.org/3/discover/movie?api_key=db05765d08db6d23fb65b5b22d8d704e&page=19&vote_count.gte=5000\n",
      "https://api.themoviedb.org/3/discover/movie?api_key=db05765d08db6d23fb65b5b22d8d704e&page=20&vote_count.gte=5000\n",
      "https://api.themoviedb.org/3/discover/movie?api_key=db05765d08db6d23fb65b5b22d8d704e&page=21&vote_count.gte=5000\n",
      "https://api.themoviedb.org/3/discover/movie?api_key=db05765d08db6d23fb65b5b22d8d704e&page=22&vote_count.gte=5000\n",
      "https://api.themoviedb.org/3/discover/movie?api_key=db05765d08db6d23fb65b5b22d8d704e&page=23&vote_count.gte=5000\n",
      "https://api.themoviedb.org/3/discover/movie?api_key=db05765d08db6d23fb65b5b22d8d704e&page=24&vote_count.gte=5000\n",
      "https://api.themoviedb.org/3/discover/movie?api_key=db05765d08db6d23fb65b5b22d8d704e&page=25&vote_count.gte=5000\n",
      "https://api.themoviedb.org/3/discover/movie?api_key=db05765d08db6d23fb65b5b22d8d704e&page=26&vote_count.gte=5000\n",
      "https://api.themoviedb.org/3/discover/movie?api_key=db05765d08db6d23fb65b5b22d8d704e&page=27&vote_count.gte=5000\n",
      "https://api.themoviedb.org/3/discover/movie?api_key=db05765d08db6d23fb65b5b22d8d704e&page=28&vote_count.gte=5000\n",
      "https://api.themoviedb.org/3/discover/movie?api_key=db05765d08db6d23fb65b5b22d8d704e&page=29&vote_count.gte=5000\n",
      "https://api.themoviedb.org/3/discover/movie?api_key=db05765d08db6d23fb65b5b22d8d704e&page=30&vote_count.gte=5000\n",
      "https://api.themoviedb.org/3/discover/movie?api_key=db05765d08db6d23fb65b5b22d8d704e&page=31&vote_count.gte=5000\n",
      "https://api.themoviedb.org/3/discover/movie?api_key=db05765d08db6d23fb65b5b22d8d704e&page=32&vote_count.gte=5000\n",
      "https://api.themoviedb.org/3/discover/movie?api_key=db05765d08db6d23fb65b5b22d8d704e&page=33&vote_count.gte=5000\n",
      "https://api.themoviedb.org/3/discover/movie?api_key=db05765d08db6d23fb65b5b22d8d704e&page=34&vote_count.gte=5000\n",
      "https://api.themoviedb.org/3/discover/movie?api_key=db05765d08db6d23fb65b5b22d8d704e&page=35&vote_count.gte=5000\n",
      "https://api.themoviedb.org/3/discover/movie?api_key=db05765d08db6d23fb65b5b22d8d704e&page=36&vote_count.gte=5000\n",
      "https://api.themoviedb.org/3/discover/movie?api_key=db05765d08db6d23fb65b5b22d8d704e&page=37&vote_count.gte=5000\n",
      "https://api.themoviedb.org/3/discover/movie?api_key=db05765d08db6d23fb65b5b22d8d704e&page=38&vote_count.gte=5000\n",
      "https://api.themoviedb.org/3/discover/movie?api_key=db05765d08db6d23fb65b5b22d8d704e&page=39&vote_count.gte=5000\n",
      "https://api.themoviedb.org/3/discover/movie?api_key=db05765d08db6d23fb65b5b22d8d704e&page=40&vote_count.gte=5000\n",
      "[76600, 315162, 324552, 634649, 458156, 361743, 766507, 616037, 19995, 299536, 453395, 568124, 245891, 414906, 672, 767, 671, 287947, 411, 808, 674, 312221, 673, 791373, 580489, 324786, 675, 12445, 385128, 1865, 12444, 285, 24428, 14836, 566525, 354912, 216015, 337167, 337404, 22, 809, 537915, 597, 157336, 399566, 460465, 585, 299534, 423108, 58, 207703, 372058, 150540, 524434, 293660, 4935, 436969, 296096, 10192, 106646, 384018, 550988, 198663, 138843, 10138, 38757, 260514, 8587, 508943, 39254, 10144, 324857, 49013, 50014, 862, 102899, 383498, 337339, 588228, 425, 177572, 520763, 99861, 615457, 640, 166426, 330457, 10674, 2062, 131631, 490132, 129, 527774, 269149, 238, 810, 122917, 454626, 18785, 508442, 343668, 168259, 284053, 497, 166428, 8966, 14160, 474350, 120, 259693, 11224, 121, 118, 12, 439079, 4232, 109445, 497698, 863, 744, 278, 91314, 214756, 283995, 420818, 4247, 438631, 10195, 228150, 62211, 429617, 1930, 119450, 315635, 68726, 24021, 1726, 102382, 141052, 333339, 6479, 72190, 341174, 8355, 464052, 9502, 50620, 271110, 335983, 11, 9552, 363088, 82702, 98566, 82690, 10191, 122, 27205, 260513, 381284, 47971, 920, 140300, 10020, 260346, 76338, 557, 87101, 370172, 337401, 135397, 512200, 190859, 619264, 3933, 35, 62177, 10193, 49051, 254128, 93456, 45243, 14161, 475557, 155, 38365, 263115, 404368, 561, 50619, 111, 351286, 373571, 301528, 559, 150689, 420809, 335984, 603, 38700, 953, 294254, 496243, 335988, 57214, 68721, 283366, 284052, 70981, 246655, 396535, 10681, 242, 345940, 9487, 257344, 20352, 11544, 564, 950, 447332, 495764, 550, 109439, 61791, 18239, 297802, 49026, 32657, 41154, 209112, 13, 450465, 350, 37135, 284054, 335797, 381288, 106, 11688, 9806, 12155, 76341, 22881, 281338, 49444, 50546, 38575, 77338, 11970, 321612, 8247, 127585, 396422, 158852, 1366, 408, 857, 57158, 11036, 8681, 156022, 49519, 131634, 102651, 126889, 427641, 101299, 280, 50544, 44896, 10527, 57800, 399579, 87827, 49521, 346364, 240832, 1724, 420817, 49530, 259316, 75780, 680, 244786, 336843, 240, 72105, 18823, 140607, 299537, 9479, 49018, 2454, 105, 1734, 9325, 297762, 46195, 348, 1954, 447404, 19913, 353486, 238636, 181812, 82675, 339846, 812, 310, 398818, 8363, 3170, 20526, 466272, 546554, 1250, 250546, 429, 1124, 454983, 181808, 18240, 8960, 198184, 11324, 51876, 12092, 98, 38055, 353081, 4348, 16869, 607, 419430, 241259, 223702, 161, 577922, 10895, 76492, 49529, 60304, 118340, 652, 27578, 80321, 2105, 637, 13053, 297761, 242582, 293167, 320288, 86834, 273481, 324852, 1771, 176, 854, 1359, 329865, 47933, 402900, 85, 75656, 489, 527641, 53182, 37165, 18, 218, 138832, 28178, 534, 124905, 10140, 807, 14574, 159824, 8392, 8871, 22538, 424, 608, 339403, 10555, 676, 56292, 1091, 10625, 23483, 602, 38, 19908, 646380, 262500, 1271, 12230, 68718, 333484, 307081, 158015, 296, 530385, 39513, 359724, 1368, 13448, 578, 772, 286217, 44912, 95, 278927, 493922, 127380, 268, 117263, 128, 291805, 157350, 562, 24, 679, 949, 22970, 103, 81188, 565, 210577, 264660, 114, 68735, 166424, 339964, 954, 36557, 177677, 17654, 270303, 10530, 205596, 181533, 37724, 64690, 604, 300668, 137113, 5915, 70160, 310131, 254, 539, 146233, 272, 338952, 101, 621, 1813, 508439, 1894, 200727, 89, 426, 74, 13475, 424783, 2048, 62, 165, 76493, 694, 1417, 8358, 43074, 348350, 72559, 1893, 406990, 78, 256591, 855, 7131, 5255, 747, 598, 76757, 258489, 8909, 59967, 197, 302699, 956, 36647, 769, 330459, 605, 4951, 1895, 122906, 84892, 466282, 9543, 390043, 274857, 13885, 64682, 281957, 170, 628, 185, 600, 222935, 1422, 787, 37686, 424694, 300669, 1372, 423, 277, 405774, 395992, 10528, 217, 1402, 4922, 601, 316029, 2501, 59859, 37799, 9340, 1927, 87, 152601, 393, 1824, 211672, 293863, 389, 100402, 62213, 530915, 28, 1637, 282035, 82700, 188927, 8467, 73, 228967, 332562, 110415, 63, 54138, 20504, 313369, 58574, 670, 334533, 57201, 137106, 76163, 22794, 162, 68724, 4011, 334543, 58595, 338970, 2668, 955, 50646, 206647, 1892, 1949, 515001, 453, 1487, 500, 207, 435, 1571, 1572, 345, 497582, 591, 274870, 406997, 10201, 7191, 206487, 13183, 120467, 458723, 1933, 187017, 2502, 856, 75612, 121856, 1979, 44214, 324668, 616, 594, 6977, 331482, 77, 49040, 207932, 9737, 644, 2034, 340666, 510, 2059, 64688, 141, 2300, 302946, 299687, 254320, 9738, 65, 31011, 329, 374720, 1573, 1891, 745, 88, 401981, 68728, 861, 664413, 398978, 752, 47964, 39514, 558, 364, 18360, 381283, 49047, 115, 1593, 44115, 1018, 492188, 163, 107, 392044, 9339, 238713, 235, 262504, 10764, 11631, 116745, 315837, 445571, 277834, 2503, 14, 76203, 7446, 388, 45612, 195589, 4638, 196, 49017, 12405, 399055, 114150, 39538, 266856, 391713, 68734, 194, 168672, 620, 1995, 9741, 87502, 509, 273248, 570670, 927, 8844, 1576, 318846, 82654, 194662, 440021, 142, 400106, 70, 3049, 2649, 8373, 363676, 298, 257211, 96721, 203801, 449176, 629, 80278, 109414, 788, 51540, 187, 6957, 153, 2108, 322, 334541, 137, 346685, 627, 242224, 567, 341013, 333371, 587, 44826, 9615, 755, 9693, 290250, 295693, 380, 37735, 181886, 389015, 11321, 8488, 180, 7345, 1597, 83542, 13223, 328387, 80274, 82693, 13804, 359940, 3131, 152532, 508, 345920, 782, 45269, 17431, 275, 762, 184, 314365, 38356, 65754, 59436, 328111, 109424, 376867, 773, 306819, 1858, 264644, 7326, 83666, 51497, 419704, 487558, 641, 296098, 82992, 9799, 76170, 274, 100, 584, 2080, 49538, 330, 771, 36658, 331, 36657, 36668]\n"
     ]
    }
   ],
   "source": [
    "id_lists = []\n",
    "movie_lists={}\n",
    "\n",
    "addpage=0\n",
    "for addpage in range(1 , 41):\n",
    "    url = f\"https://api.themoviedb.org/3/discover/movie?api_key={api_key_tmdb}&page={addpage}&vote_count.gte=5000\"\n",
    "    print(url)\n",
    "    # Send GET request to TMDb API\n",
    "    response = requests.get(url)\n",
    "    # Parse JSON response into dictionary\n",
    "    data = response.json()\n",
    "    # Extract movie results and add to movie list\n",
    "    results = data['results']\n",
    "    for result in results:\n",
    "        id_lists.append(result['id'])\n",
    "\n",
    "print(id_lists)\n",
    "\n",
    "# for decade, movie_list in movie_lists.items():\n",
    "#     # print(f'Top 50 movies of the {decade}:')\n",
    "#     for i, movie in enumerate(movie_list[:50]):\n",
    "#         print(f'.{movie}')\n",
    "#     print('\\n')\n"
   ]
  },
  {
   "cell_type": "code",
   "execution_count": 77,
   "metadata": {},
   "outputs": [
    {
     "name": "stdout",
     "output_type": "stream",
     "text": [
      "['tt1630029', 'tt3915174', 'tt4425200', 'tt10872600', 'tt6146586', 'tt1745960', 'tt11866324', 'tt10648342', 'tt0499549', 'tt4154756', 'tt9419884', 'tt2953050', 'tt2911666', 'tt1877830', 'tt0295297', 'tt0417741', 'tt0241527', 'tt0448115', 'tt0363771', 'tt0126029', 'tt0330373', 'tt3076658', 'tt0304141', 'tt12361974', 'tt7097896', 'tt2119532', 'tt0373889', 'tt1201607', 'tt5433138', 'tt1298650', 'tt0926084', 'tt0449088', 'tt0848228', 'tt0327597', 'tt9376612', 'tt2380307', 'tt2322441', 'tt4477536', 'tt3228774', 'tt0325980', 'tt0298148', 'tt4126476', 'tt0120338', 'tt0816692', 'tt5034838', 'tt0293429', 'tt0198781', 'tt4154796', 'tt7069210', 'tt0383574', 'tt2802144', 'tt5311514', 'tt2096673', 'tt9032400', 'tt1431045', 'tt0347149', 'tt6334354', 'tt2674426', 'tt0892791', 'tt0993846', 'tt6806448', 'tt6264654', 'tt1790864', 'tt1457767', 'tt1228705', 'tt0398286', 'tt3606752', 'tt0110357', 'tt12801262', 'tt0433035', 'tt0097757', 'tt4633694', 'tt1216475', 'tt1454029', 'tt0114709', 'tt0478970', 'tt5463162', 'tt4630562', 'tt9777666', 'tt0268380', 'tt2245084', 'tt8332922', 'tt2395427', 'tt7888964', 'tt0264464', 'tt1790809', 'tt4520988', 'tt0120762', 'tt0382932', 'tt1951265', 'tt6966692', 'tt0245429', 'tt5109280', 'tt2948356', 'tt0068646', 'tt0413267', 'tt2310332', 'tt3794354', 'tt1119646', 'tt2948372', 'tt4649466', 'tt2820852', 'tt3501632', 'tt0120689', 'tt2386490', 'tt1099212', 'tt1049413', 'tt7349950', 'tt0120737', 'tt3065204', 'tt0042332', 'tt0167261', 'tt0367594', 'tt0266543', 'tt5814060', 'tt0117571', 'tt2294629', 'tt3480822', 'tt0120363', 'tt0092099', 'tt0111161', 'tt2109248', 'tt2637276', 'tt3896198', 'tt6105098', 'tt0175142', 'tt1160419', 'tt0800369', 'tt2713180', 'tt1453405', 'tt6320628', 'tt0948470', 'tt2103281', 'tt2250912', 'tt1663662', 'tt1325004', 'tt0371746', 'tt1872181', 'tt0974015', 'tt1677720', 'tt0480249', 'tt0816711', 'tt4465564', 'tt1080016', 'tt7126948', 'tt0441773', 'tt1673434', 'tt3498820', 'tt1270797', 'tt0076759', 'tt0070047', 'tt5095030', 'tt1646971', 'tt1291150', 'tt1772341', 'tt0892769', 'tt0167260', 'tt1375666', 'tt3606756', 'tt4846340', 'tt1293847', 'tt0317219', 'tt2267968', 'tt0101414', 'tt2446042', 'tt1981115', 'tt0145487', 'tt1340138', 'tt2382320', 'tt4566758', 'tt0369610', 'tt7975244', 'tt2179136', 'tt8228288', 'tt0121164', 'tt0462538', 'tt1217209', 'tt0435761', 'tt0903624', 'tt2126355', 'tt1690953', 'tt1411697', 'tt1190080', 'tt7286456', 'tt0468569', 'tt1375670', 'tt3315342', 'tt5848272', 'tt0360486', 'tt1324999', 'tt0086250', 'tt4881806', 'tt3741700', 'tt1979376', 'tt0413300', 'tt1661199', 'tt4777008', 'tt1856101', 'tt0133093', 'tt1502397', 'tt0351283', 'tt4046784', 'tt6751668', 'tt3371366', 'tt1636826', 'tt1300854', 'tt1935859', 'tt1211837', 'tt1446714', 'tt3385516', 'tt5700672', 'tt0910970', 'tt0099674', 'tt4779682', 'tt0120623', 'tt2120120', 'tt1323594', 'tt0275847', 'tt0120616', 'tt0438097', 'tt6644200', 'tt7713068', 'tt0137523', 'tt1951261', 'tt1318514', 'tt1259571', 'tt1477834', 'tt1345836', 'tt0814255', 'tt1409024', 'tt2975590', 'tt0109830', 'tt6823368', 'tt0458352', 'tt0120855', 'tt1825683', 'tt3470600', 'tt4972582', 'tt0093773', 'tt0120917', 'tt0317705', 'tt1014759', 'tt1392190', 'tt0878804', 'tt3450958', 'tt1302011', 'tt1564367', 'tt1155076', 'tt1675434', 'tt0119282', 'tt2771200', 'tt0489099', 'tt1877832', 'tt5140878', 'tt1964418', 'tt0075148', 'tt0029583', 'tt0120815', 'tt1170358', 'tt0332280', 'tt0936501', 'tt0455944', 'tt0481499', 'tt1951266', 'tt1587310', 'tt2316204', 'tt2231461', 'tt1951264', 'tt0103064', 'tt1632708', 'tt1192628', 'tt0479952', 'tt1667889', 'tt0437086', 'tt0454876', 'tt0770828', 'tt1396484', 'tt2872732', 'tt0800080', 'tt6139732', 'tt1637688', 'tt3183660', 'tt0790724', 'tt0110912', 'tt2582802', 'tt4500922', 'tt0071562', 'tt1637725', 'tt0800320', 'tt2488496', 'tt4154664', 'tt0107688', 'tt1591095', 'tt0499448', 'tt0088763', 'tt0209163', 'tt0061852', 'tt0451279', 'tt1436562', 'tt0078748', 'tt0289879', 'tt5884052', 'tt1022603', 'tt2283362', 'tt2975578', 'tt2527338', 'tt1397280', 'tt1469304', 'tt0103639', 'tt0315327', 'tt5726616', 'tt0829482', 'tt0034492', 'tt1104001', 'tt7131622', 'tt8946378', 'tt0259324', 'tt3322940', 'tt0060196', 'tt0482571', 'tt3799232', 'tt2527336', 'tt1041829', 'tt0448157', 'tt1823672', 'tt1130884', 'tt1219289', 'tt0043274', 'tt0172495', 'tt1001526', 'tt4912910', 'tt0414387', 'tt0361748', 'tt0119654', 'tt5052448', 'tt2567026', 'tt1700841', 'tt0240772', 'tt6723592', 'tt0032910', 'tt0837562', 'tt0401729', 'tt1428538', 'tt2015381', 'tt0332452', 'tt1320253', 'tt1277953', 'tt0163651', 'tt0118799', 'tt0397892', 'tt1386697', 'tt2872718', 'tt3731562', 'tt6565702', 'tt1959490', 'tt3397884', 'tt3469046', 'tt0458339', 'tt0387564', 'tt0110475', 'tt0144084', 'tt2543164', 'tt1628841', 'tt5164214', 'tt0082971', 'tt1670345', 'tt0119217', 'tt6472976', 'tt1253863', 'tt0120382', 'tt0119116', 'tt0088247', 'tt1723121', 'tt1028532', 'tt0438488', 'tt0831387', 'tt0980970', 'tt0114369', 'tt0914798', 'tt2510894', 'tt0096283', 'tt0170016', 'tt0446029', 'tt0108052', 'tt0120912', 'tt3890160', 'tt0307453', 'tt0213149', 'tt1229238', 'tt0084787', 'tt0377092', 'tt1250777', 'tt0116629', 'tt0338013', 'tt1156398', 'tt11286314', 'tt2908446', 'tt0416449', 'tt0055254', 'tt1853728', 'tt2404435', 'tt1798684', 'tt2184339', 'tt0181852', 'tt8772262', 'tt1092026', 'tt1950186', 'tt0083944', 'tt0808151', 'tt0073195', 'tt0104431', 'tt3659388', 'tt1133985', 'tt0120591', 'tt3040964', 'tt7784604', 'tt2277860', 'tt0096895', 'tt2302755', 'tt0119698', 'tt3110958', 'tt1840309', 'tt0095016', 'tt0266697', 'tt0090605', 'tt0113277', 'tt1259521', 'tt0075314', 'tt1446192', 'tt0298130', 'tt2267998', 'tt0470752', 'tt0100405', 'tt0803096', 'tt1502712', 'tt2239822', 'tt0117060', 'tt0381061', 'tt2381249', 'tt1136608', 'tt3235888', 'tt0114148', 'tt2084970', 'tt2692250', 'tt1074638', 'tt0780504', 'tt0234215', 'tt2798920', 'tt1631867', 'tt0758758', 'tt1392170', 'tt4263482', 'tt0360717', 'tt0054215', 'tt1392214', 'tt0372784', 'tt4123430', 'tt0110413', 'tt0077631', 'tt0118971', 'tt7146812', 'tt0121765', 'tt1638002', 'tt0097576', 'tt0052357', 'tt0407304', 'tt0796366', 'tt4701182', 'tt0343818', 'tt0062622', 'tt0096874', 'tt1645170', 'tt0081505', 'tt0457430', 'tt0162222', 'tt1289401', 'tt3778644', 'tt1583421', 'tt0120915', 'tt1536537', 'tt0083658', 'tt2381941', 'tt0265086', 'tt0338526', 'tt0338348', 'tt0365748', 'tt0317248', 'tt1617661', 'tt0918940', 'tt0493464', 'tt1276104', 'tt0112573', 'tt1489889', 'tt0317919', 'tt0120611', 'tt0099685', 'tt3748528', 'tt0242653', 'tt0147800', 'tt0121766', 'tt2194499', 'tt1659337', 'tt3846674', 'tt0473075', 'tt1959563', 'tt1972591', 'tt0408236', 'tt1343092', 'tt1663202', 'tt0289043', 'tt0110148', 'tt0066921', 'tt0093058', 'tt2582846', 'tt0407887', 'tt0356910', 'tt1650062', 'tt1727824', 'tt4160708', 'tt0450259', 'tt0253474', 'tt0320691', 'tt2737304', 'tt5442430', 'tt0988045', 'tt0367882', 'tt0454921', 'tt0421715', 'tt0083866', 'tt1485796', 'tt0258463', 'tt1650554', 'tt1285016', 'tt0089218', 'tt0286716', 'tt0087469', 'tt1798709', 'tt0378194', 'tt0343660', 'tt2293640', 'tt1655441', 'tt0050083', 'tt1843866', 'tt1077368', 'tt8579674', 'tt0078788', 'tt0111257', 'tt2345759', 'tt1815862', 'tt2660888', 'tt0109686', 'tt0120586', 'tt2788710', 'tt1517451', 'tt1706620', 'tt0114746', 'tt1408101', 'tt1037705', 'tt3783958', 'tt1515091', 'tt0364569', 'tt3553976', 'tt1210819', 'tt1490017', 'tt1764651', 'tt0844471', 'tt0099487', 'tt1535108', 'tt0094721', 'tt3741834', 'tt1735898', 'tt1365519', 'tt0162661', 'tt0120755', 'tt1570728', 'tt2379713', 'tt0086190', 'tt0443706', 'tt2584384', 'tt0268978', 'tt0167190', 'tt0105236', 'tt0097165', 'tt0319262', 'tt0337978', 'tt0112864', 'tt0120663', 'tt7846844', 'tt0382625', 'tt1355644', 'tt2543472', 'tt1068680', 'tt1060277', 'tt2397535', 'tt0409459', 'tt2278388', 'tt6857112', 'tt0230600', 'tt2294449', 'tt0372183', 'tt0096438', 'tt1483013', 'tt2094766', 'tt0486576', 'tt0947798', 'tt4196776', 'tt0325710', 'tt0362227', 'tt0477348', 'tt3281548', 'tt0209144', 'tt1194173', 'tt3062096', 'tt0112442', 'tt0212720', 'tt0139654', 'tt4550098', 'tt0073486', 'tt0368891', 'tt1232829', 'tt0246578', 'tt0117705', 'tt2140479', 'tt2304933', 'tt3464902', 'tt0120667', 'tt0298203', 'tt0485947', 'tt0107290', 'tt5013056', 'tt0099423', 'tt0080684', 'tt0167404', 'tt0092890', 'tt2873282', 'tt1623205', 'tt0100802', 'tt10886166', 'tt1302006', 'tt0434409', 'tt1606378', 'tt1245526', 'tt0316654', 'tt0103776', 'tt1078912', 'tt5109784', 'tt1454468', 'tt0118715', 'tt0477347', 'tt1542344', 'tt0166924', 'tt7653254', 'tt0349903', 'tt0208092', 'tt3402236', 'tt0389860', 'tt3079380', 'tt0092005', 'tt3410834', 'tt0830515', 'tt0795421', 'tt0359950', 'tt1219827', 'tt2704998', 'tt3521164', 'tt0440963', 'tt0169547', 'tt2024544', 'tt0942385', 'tt0454848', 'tt0945513', 'tt2004420', 'tt0425112', 'tt0099088', 'tt0829150', 'tt1010048', 'tt5580390', 'tt1981677', 'tt1598778', 'tt2980516', 'tt4925292', 'tt1024648', 'tt0211915', 'tt1800241', 'tt0087332', 'tt0146316', 'tt0217869', 'tt1907668', 'tt0125439', 'tt3460252', 'tt1051906', 'tt0087363', 'tt0113497', 'tt0120804', 'tt1596363', 'tt1588173', 'tt2562232', 'tt5308322', 'tt0388795', 'tt5519340', 'tt0405159', 'tt0109040', 'tt0119174', 'tt1055369', 'tt3263904', 'tt0496806', 'tt2361509', 'tt1979320', 'tt1638355', 'tt5164432', 'tt0114814', 'tt1649419', 'tt1245492', 'tt0107614', 'tt1499658', 'tt0401792', 'tt0405422', 'tt0335266', 'tt0088847', 'tt0327056', 'tt4034228', 'tt0107048', 'tt3631112', 'tt0117951', 'tt2321549', 'tt0047396', 'tt2406566', 'tt1179933', 'tt0319061', 'tt0970179', 'tt0463985', 'tt0116367', 'tt0206634', 'tt3799694', 'tt3874544', 'tt0095953', 'tt1282140', 'tt2316411', 'tt5580036', 'tt0814314', 'tt0386588', 'tt0181689', 'tt0469494', 'tt0212338', 'tt1371111', 'tt1205489', 'tt3531824', 'tt1731141', 'tt1045658', 'tt1013752', 'tt5027774', 'tt0217505', 'tt0790636', 'tt0314331', 'tt4682786', 'tt0119177', 'tt1504320', 'tt1182345', 'tt0116282', 'tt0071853', 'tt0119396', 'tt1895587', 'tt1399103', 'tt1568346', 'tt1605783', 'tt2709768', 'tt1535109', 'tt4975722', 'tt0449059', 'tt0810819', 'tt0418279', 'tt3170832', 'tt0467406', 'tt1748122', 'tt1596343', 'tt2935510', 'tt7349662', 'tt0180093', 'tt3682448', 'tt1905041', 'tt0232500', 'tt1430132', 'tt0102926', 'tt0120735', 'tt0322259', 'tt0458525', 'tt1270798', 'tt0119567', 'tt0099785', 'tt0290334', 'tt0163025', 'tt0120903', 'tt0376994']\n"
     ]
    }
   ],
   "source": [
    "imdb_ids = []\n",
    "\n",
    "for id in id_lists:\n",
    "    url_concatenated = f\"https://api.themoviedb.org/3/movie/{id}?api_key={api_key_tmdb}&language=en-US\"\n",
    "    response2 = requests.get(url_concatenated)\n",
    "    data2 = response2.json()\n",
    "    imdb_ids.append(data2['imdb_id'])\n",
    "\n",
    "    # for result in results2:\n",
    "    #     imdb_ids.append(result['imdb_id'])\n",
    "        \n",
    "\n",
    "print(imdb_ids)"
   ]
  },
  {
   "cell_type": "code",
   "execution_count": 101,
   "metadata": {},
   "outputs": [
    {
     "data": {
      "text/plain": [
       "793"
      ]
     },
     "execution_count": 101,
     "metadata": {},
     "output_type": "execute_result"
    }
   ],
   "source": [
    "len(imdb_ids)"
   ]
  },
  {
   "cell_type": "code",
   "execution_count": 79,
   "metadata": {},
   "outputs": [
    {
     "name": "stdout",
     "output_type": "stream",
     "text": [
      "0\n"
     ]
    }
   ],
   "source": [
    "count_of_none = 0\n",
    "for element in imdb_ids:\n",
    "    if element == 'None':\n",
    "        count_of_none += 1\n",
    "print(count_of_none)"
   ]
  },
  {
   "cell_type": "code",
   "execution_count": 82,
   "metadata": {},
   "outputs": [
    {
     "name": "stdout",
     "output_type": "stream",
     "text": [
      "['tt3315342', 'tt0401792', 'tt0120611', 'tt2316204', 'tt0405159', 'tt0172495', 'tt1049413', 'tt11286314', 'tt0440963', 'tt0119174', 'tt1392170', 'tt7784604', 'tt0338013', 'tt0458339', 'tt6320628', 'tt3606752', 'tt0078748', 'tt0180093', 'tt4912910', 'tt4154796', 'tt0829482', 'tt0234215', 'tt0110413', 'tt1253863', 'tt0116282', 'tt0892791', 'tt0084787', 'tt3521164', 'tt1951266', 'tt0086250', 'tt6472976', 'tt3281548', 'tt2527336', 'tt1649419', 'tt2911666', 'tt3079380', 'tt1259571', 'tt0167404', 'tt3741700', 'tt0758758', 'tt1245492', 'tt1160419', 'tt0993846', 'tt0102926', 'tt1636826', 'tt0093773', 'tt2345759', 'tt0449088', 'tt0113497', 'tt0118799', 'tt5580036', 'tt1972591', 'tt1318514', 'tt0111161', 'tt0213149', 'tt2872718', 'tt5013056', 'tt4881806', 'tt3065204', 'tt0448157', 'tt6334354', 'tt0319061', 'tt0119282', 'tt0327056', 'tt1431045', 'tt1772341', 'tt1340138', 'tt1959490', 'tt2024544', 'tt1638355', 'tt0314331', 'tt0910970', 'tt1205489', 'tt1399103', 'tt3531824', 'tt0486576', 'tt0121164', 'tt0803096', 'tt0120338', 'tt0240772', 'tt0362227', 'tt1735898', 'tt0914798', 'tt3322940', 'tt0470752', 'tt0110912', 'tt0388795', 'tt0137523', 'tt1190080', 'tt3263904', 'tt0258463', 'tt0800320', 'tt6723592', 'tt0088247', 'tt0118715', 'tt1677720', 'tt0455944', 'tt0120382', 'tt0268978', 'tt0320691', 'tt0383574', 'tt0073486', 'tt2802144', 'tt0217505', 'tt1637725', 'tt0837562', 'tt0307453', 'tt0167190', 'tt0245429', 'tt3040964', 'tt0126029', 'tt8946378', 'tt0080684', 'tt2692250', 'tt12361974', 'tt1119646', 'tt0369610', 'tt1907668', 'tt1045658', 'tt6857112', 'tt4846340', 'tt7069210', 'tt5884052', 'tt0043274', 'tt0936501', 'tt0485947', 'tt0298148', 'tt2380307', 'tt2379713', 'tt0337978', 'tt2935510', 'tt0816692', 'tt0372183', 'tt1037705', 'tt1798684', 'tt7713068', 'tt2404435', 'tt3606756', 'tt2709768', 'tt1077368', 'tt0230600', 'tt1489889', 'tt2386490', 'tt0139654', 'tt1092026', 'tt0335266', 'tt0413267', 'tt3450958', 'tt0170016', 'tt0097757', 'tt0119116', 'tt4046784', 'tt1950186', 'tt1587310', 'tt0112573', 'tt0112442', 'tt0338526', 'tt0454876', 'tt3501632', 'tt1840309', 'tt2406566', 'tt0083944', 'tt3480822', 'tt0304141', 'tt0477348', 'tt0800369', 'tt1659337', 'tt0120735', 'tt0162661', 'tt5052448', 'tt0114148', 'tt1041829', 'tt0088847', 'tt4123430', 'tt0290334', 'tt4701182', 'tt7286456', 'tt0029583', 'tt1229238', 'tt0367594', 'tt0844471', 'tt0389860', 'tt0096438', 'tt2179136', 'tt0814255', 'tt1853728', 'tt5095030', 'tt0099088', 'tt1748122', 'tt0446029', 'tt0198781', 'tt2094766', 'tt0264464', 'tt2103281', 'tt1690953', 'tt1219289', 'tt2948356', 'tt3778644', 'tt0443706', 'tt1392214', 'tt0104431', 'tt0120363', 'tt2109248', 'tt1605783', 'tt5311514', 'tt0145487', 'tt0317705', 'tt4034228', 'tt1228705', 'tt0120855', 'tt3659388', 'tt11866324', 'tt4630562', 'tt0211915', 'tt0212338', 'tt2820852', 'tt0363771', 'tt1502397', 'tt0451279', 'tt0351283', 'tt1277953', 'tt0120815', 'tt2293640', 'tt1375670', 'tt0454848', 'tt7349662', 'tt0414387', 'tt5726616', 'tt2637276', 'tt0458525', 'tt0087469', 'tt0253474', 'tt0103776', 'tt6966692', 'tt0212720', 'tt3470600', 'tt2126355', 'tt2250912', 'tt1355644', 'tt2582846', 'tt2194499', 'tt2975590', 'tt0034492', 'tt0259324', 'tt3371366', 'tt0055254', 'tt2381941', 'tt0298203', 'tt0119396', 'tt1535109', 'tt4425200', 'tt0088763', 'tt3783958', 'tt3799232', 'tt5140878', 'tt1650554', 'tt1535108', 'tt3170832', 'tt1411697', 'tt0042332', 'tt0298130', 'tt2953050', 'tt0166924', 'tt0450259', 'tt2980516', 'tt2382320', 'tt4263482', 'tt3846674', 'tt0103639', 'tt0397892', 'tt0090605', 'tt6644200', 'tt0364569', 'tt0209144', 'tt1080016', 'tt0112864', 'tt1877830', 'tt0103064', 'tt0365748', 'tt2239822', 'tt1655441', 'tt0480249', 'tt0317248', 'tt1250777', 'tt1568346', 'tt0266697', 'tt0780504', 'tt0816711', 'tt0349903', 'tt0120623', 'tt1371111', 'tt0120591', 'tt0343660', 'tt0099423', 'tt1300854', 'tt1285016', 'tt1515091', 'tt9032400', 'tt0076759', 'tt0083866', 'tt0050083', 'tt1302011', 'tt1078912', 'tt1650062', 'tt0209163', 'tt0111257', 'tt0441773', 'tt2713180', 'tt0101414', 'tt2908446', 'tt2084970', 'tt1617661', 'tt0473075', 'tt1060277', 'tt0114746', 'tt3553976', 'tt9376612', 'tt1024648', 'tt2316411', 'tt0117571', 'tt1436562', 'tt0918940', 'tt0469494', 'tt3748528', 'tt5814060', 'tt7131622', 'tt0181689', 'tt0120762', 'tt0113277', 'tt10886166', 'tt6806448', 'tt2294629', 'tt7349950', 'tt0118971', 'tt1483013', 'tt0496806', 'tt0386588', 'tt0373889', 'tt0407887', 'tt0169547', 'tt0117060', 'tt0381061', 'tt8228288', 'tt0974015', 'tt0217869', 'tt1825683', 'tt1201607', 'tt0075148', 'tt1667889', 'tt0096874', 'tt1800241', 'tt0208092', 'tt0099487', 'tt1320253', 'tt0109040', 'tt0120737', 'tt4154664', 'tt0232500', 'tt9777666', 'tt0796366', 'tt3874544', 'tt1843866', 'tt1170358', 'tt0119217', 'tt0120755', 'tt0499448', 'tt0878804', 'tt1637688', 'tt0481499', 'tt2231461', 'tt9419884', 'tt0322259', 'tt0092890', 'tt0066921', 'tt0810819', 'tt0120616', 'tt0359950', 'tt0105236', 'tt1790809', 'tt2674426', 'tt0163651', 'tt2660888', 'tt0097165', 'tt1013752', 'tt0289879', 'tt3460252', 'tt2004420', 'tt4975722', 'tt0315327', 'tt1588173', 'tt0089218', 'tt0144084', 'tt2302755', 'tt0830515', 'tt1325004', 'tt0338348', 'tt0120917', 'tt1823672', 'tt1446192', 'tt0317919', 'tt3402236', 'tt1731141', 'tt1979376', 'tt1457767', 'tt0099674', 'tt1276104', 'tt2510894', 'tt2119532', 'tt1596343', 'tt1905041', 'tt0408236', 'tt7846844', 'tt5164432', 'tt2321549', 'tt1964418', 'tt0372784', 'tt0175142', 'tt1211837', 'tt0425112', 'tt0980970', 'tt3890160', 'tt5848272', 'tt0332280', 'tt0463985', 'tt0071562', 'tt1270797', 'tt3896198', 'tt2277860', 'tt0163025', 'tt1596363', 'tt2975578', 'tt1001526', 'tt0092099', 'tt0903624', 'tt0100405', 'tt1345836', 'tt0418279', 'tt4160708', 'tt0405422', 'tt0376994', 'tt0146316', 'tt0988045', 'tt0325710', 'tt1504320', 'tt1745960', 'tt3498820', 'tt1706620', 'tt5109784', 'tt1293847', 'tt7888964', 'tt0945513', 'tt0167260', 'tt1631867', 'tt0116367', 'tt0382932', 'tt1282140', 'tt0330373', 'tt1136608', 'tt0926084', 'tt1798709', 'tt4500922', 'tt0499549', 'tt0119654', 'tt1951264', 'tt0133093', 'tt1981115', 'tt3915174', 'tt8579674', 'tt0808151', 'tt0068646', 'tt1764651', 'tt0071853', 'tt5164214', 'tt1014759', 'tt0790724', 'tt1291150', 'tt1232829', 'tt1935859', 'tt0086190', 'tt3464902', 'tt1408101', 'tt0477347', 'tt4779682', 'tt1259521', 'tt2381249', 'tt0242653', 'tt0119698', 'tt1583421', 'tt0293429', 'tt1632708', 'tt0892769', 'tt0120912', 'tt0468569', 'tt5034838', 'tt3110958', 'tt3794354', 'tt3235888', 'tt0078788', 'tt5433138', 'tt1454468', 'tt0120804', 'tt1628841', 'tt4465564', 'tt7097896', 'tt1289401', 'tt5308322', 'tt1219827', 'tt0421715', 'tt2322441', 'tt1375666', 'tt2737304', 'tt3469046', 'tt1446714', 'tt2562232', 'tt0095016', 'tt3228774', 'tt0120903', 'tt0275847', 'tt10648342', 'tt0467406', 'tt0082971', 'tt0800080', 'tt0047396', 'tt2543164', 'tt1564367', 'tt1430132', 'tt0266543', 'tt1536537', 'tt0110148', 'tt4520988', 'tt3682448', 'tt0479952', 'tt0265086', 'tt0387564', 'tt2704998', 'tt0449059', 'tt0117705', 'tt2120120', 'tt1502712', 'tt1877832', 'tt0325980', 'tt0289043', 'tt1570728', 'tt2096673', 'tt1022603', 'tt0360717', 'tt1343092', 'tt0942385', 'tt0070047', 'tt0848228', 'tt0054215', 'tt0099685', 'tt2267968', 'tt0246578', 'tt6146586', 'tt4126476', 'tt2278388', 'tt0371746', 'tt0368891', 'tt1392190', 'tt10872600', 'tt1959563', 'tt2310332', 'tt0120667', 'tt1302006', 'tt0790636', 'tt3397884', 'tt0437086', 'tt4777008', 'tt0377092', 'tt7975244', 'tt1217209', 'tt0382625', 'tt3631112', 'tt1815862', 'tt1396484', 'tt2446042', 'tt0770828', 'tt1099212', 'tt0120663', 'tt0032910', 'tt3385516', 'tt0378194', 'tt1055369', 'tt1542344', 'tt1499658', 'tt0947798', 'tt4972582', 'tt1646971', 'tt1210819', 'tt0110475', 'tt1156398', 'tt4477536', 'tt0454921', 'tt1028532', 'tt1010048', 'tt0167261', 'tt0075314', 'tt0121766', 'tt12801262', 'tt0416449', 'tt0099785', 'tt1951261', 'tt0052357', 'tt7653254', 'tt1663662', 'tt8332922', 'tt0120689', 'tt5700672', 'tt0829150', 'tt6751668', 'tt1727824', 'tt6823368', 'tt2140479', 'tt0398286', 'tt3062096', 'tt0478970', 'tt0114814', 'tt2584384', 'tt0109686', 'tt0433035', 'tt0435761', 'tt0367882', 'tt0114709', 'tt4566758', 'tt0095953', 'tt1324999', 'tt1179933', 'tt1723121', 'tt0241527', 'tt0332452', 'tt1700841', 'tt2184339', 'tt0493464', 'tt2245084', 'tt1623205', 'tt4154756', 'tt0096283', 'tt2015381', 'tt1298650', 'tt5463162', 'tt2873282', 'tt2283362', 'tt2361509', 'tt0347149', 'tt1663202', 'tt0110357', 'tt0434409', 'tt0295297', 'tt4925292', 'tt5519340', 'tt0438097', 'tt3410834', 'tt1661199', 'tt2948372', 'tt2395427', 'tt0286716', 'tt1673434', 'tt6565702', 'tt1895587', 'tt7126948', 'tt0109830', 'tt2798920', 'tt1490017', 'tt1130884', 'tt2397535', 'tt1675434', 'tt6264654', 'tt0401729', 'tt5027774', 'tt1192628', 'tt4550098', 'tt1365519', 'tt3076658', 'tt1517451', 'tt3799694', 'tt0438488', 'tt1477834', 'tt1104001', 'tt1979320', 'tt2267998', 'tt1270798', 'tt1182345', 'tt6105098', 'tt0356910', 'tt0108052', 'tt0083658', 'tt4633694', 'tt1485796', 'tt1454029', 'tt0081505', 'tt4196776', 'tt0417741', 'tt1638002', 'tt1630029', 'tt0206634', 'tt1397280', 'tt0100802', 'tt2788710', 'tt1670345', 'tt1051906', 'tt2543472', 'tt1856101', 'tt0116629', 'tt1872181', 'tt3741834', 'tt0361748', 'tt3731562', 'tt0121765', 'tt0107048', 'tt0316654', 'tt8772262', 'tt1606378', 'tt0107290', 'tt0831387', 'tt0413300', 'tt2527338', 'tt0094721', 'tt0457430', 'tt3183660', 'tt0073195', 'tt0795421', 'tt0087332', 'tt0458352', 'tt0107688', 'tt1068680', 'tt7146812', 'tt0087363', 'tt0093058', 'tt0107614', 'tt4649466', 'tt2872732', 'tt0948470', 'tt2771200', 'tt0448115', 'tt1591095', 'tt1790864', 'tt0114369', 'tt1428538', 'tt0970179', 'tt2582802', 'tt1194173', 'tt1409024', 'tt0119177', 'tt1133985', 'tt0462538', 'tt0409459', 'tt0061852', 'tt5580390', 'tt0407304', 'tt0077631', 'tt0119567', 'tt0096895', 'tt0147800', 'tt0360486', 'tt0062622', 'tt0162222', 'tt1598778', 'tt1453405', 'tt0120586', 'tt1323594', 'tt0327597', 'tt0482571', 'tt0319262', 'tt4682786', 'tt0268380', 'tt5442430', 'tt0343818', 'tt0120915', 'tt1216475', 'tt0489099', 'tt0060196', 'tt2567026', 'tt1386697', 'tt1074638', 'tt0317219', 'tt0125439', 'tt2294449', 'tt1645170', 'tt1469304', 'tt2488496', 'tt1155076', 'tt1951265', 'tt0117951', 'tt0814314', 'tt5109280', 'tt0092005', 'tt1981677', 'tt0181852', 'tt2304933', 'tt0097576', 'tt1245526', 'tt6139732']\n"
     ]
    },
    {
     "data": {
      "text/plain": [
       "793"
      ]
     },
     "execution_count": 82,
     "metadata": {},
     "output_type": "execute_result"
    }
   ],
   "source": [
    "unique_array = list(set(imdb_ids))\n",
    "print(unique_array)\n",
    "len(unique_array)"
   ]
  },
  {
   "cell_type": "code",
   "execution_count": 87,
   "metadata": {},
   "outputs": [
    {
     "data": {
      "text/html": [
       "<div>\n",
       "<style scoped>\n",
       "    .dataframe tbody tr th:only-of-type {\n",
       "        vertical-align: middle;\n",
       "    }\n",
       "\n",
       "    .dataframe tbody tr th {\n",
       "        vertical-align: top;\n",
       "    }\n",
       "\n",
       "    .dataframe thead th {\n",
       "        text-align: right;\n",
       "    }\n",
       "</style>\n",
       "<table border=\"1\" class=\"dataframe\">\n",
       "  <thead>\n",
       "    <tr style=\"text-align: right;\">\n",
       "      <th></th>\n",
       "      <th>0</th>\n",
       "    </tr>\n",
       "  </thead>\n",
       "  <tbody>\n",
       "    <tr>\n",
       "      <th>0</th>\n",
       "      <td>tt1630029</td>\n",
       "    </tr>\n",
       "    <tr>\n",
       "      <th>1</th>\n",
       "      <td>tt3915174</td>\n",
       "    </tr>\n",
       "    <tr>\n",
       "      <th>2</th>\n",
       "      <td>tt4425200</td>\n",
       "    </tr>\n",
       "    <tr>\n",
       "      <th>3</th>\n",
       "      <td>tt10872600</td>\n",
       "    </tr>\n",
       "    <tr>\n",
       "      <th>4</th>\n",
       "      <td>tt6146586</td>\n",
       "    </tr>\n",
       "    <tr>\n",
       "      <th>...</th>\n",
       "      <td>...</td>\n",
       "    </tr>\n",
       "    <tr>\n",
       "      <th>788</th>\n",
       "      <td>tt0099785</td>\n",
       "    </tr>\n",
       "    <tr>\n",
       "      <th>789</th>\n",
       "      <td>tt0290334</td>\n",
       "    </tr>\n",
       "    <tr>\n",
       "      <th>790</th>\n",
       "      <td>tt0163025</td>\n",
       "    </tr>\n",
       "    <tr>\n",
       "      <th>791</th>\n",
       "      <td>tt0120903</td>\n",
       "    </tr>\n",
       "    <tr>\n",
       "      <th>792</th>\n",
       "      <td>tt0376994</td>\n",
       "    </tr>\n",
       "  </tbody>\n",
       "</table>\n",
       "<p>793 rows × 1 columns</p>\n",
       "</div>"
      ],
      "text/plain": [
       "              0\n",
       "0     tt1630029\n",
       "1     tt3915174\n",
       "2     tt4425200\n",
       "3    tt10872600\n",
       "4     tt6146586\n",
       "..          ...\n",
       "788   tt0099785\n",
       "789   tt0290334\n",
       "790   tt0163025\n",
       "791   tt0120903\n",
       "792   tt0376994\n",
       "\n",
       "[793 rows x 1 columns]"
      ]
     },
     "execution_count": 87,
     "metadata": {},
     "output_type": "execute_result"
    }
   ],
   "source": [
    "imdb_id_df=pd.DataFrame(imdb_ids)\n",
    "imdb_id_df"
   ]
  },
  {
   "attachments": {},
   "cell_type": "markdown",
   "metadata": {},
   "source": [
    "# OMDB"
   ]
  },
  {
   "cell_type": "code",
   "execution_count": 105,
   "metadata": {},
   "outputs": [],
   "source": [
    "# Note that the ?t= is a query param for the t-itle of the\n",
    "# movie we want to search for.\n",
    "url_omdb = \"http://www.omdbapi.com/?i=\""
   ]
  },
  {
   "cell_type": "code",
   "execution_count": 110,
   "metadata": {},
   "outputs": [],
   "source": [
    "# Performing a GET request similar to the one we executed\n",
    "# earlier\n",
    "\n",
    "for id in range(21):\n",
    "    omdb_url = f\"http://www.omdbapi.com/?i={imdb_ids[id]}&apikey={api_key_omdb}\"\n",
    "# id= 'tt0401792'\n",
    "# url=f'http://www.omdbapi.com/?i={id}&apikey={api_key_omdb}'\n",
    "# print(url)\n",
    "\n",
    "\n",
    "response2 = requests.get(omdb_url)"
   ]
  },
  {
   "cell_type": "code",
   "execution_count": 111,
   "metadata": {},
   "outputs": [
    {
     "name": "stdout",
     "output_type": "stream",
     "text": [
      "{'Actors': 'Daniel Radcliffe, Emma Watson, Rupert Grint',\n",
      " 'Awards': 'Nominated for 1 Oscar. 13 wins & 44 nominations total',\n",
      " 'BoxOffice': '$290,469,928',\n",
      " 'Country': 'United Kingdom, United States',\n",
      " 'DVD': '07 Mar 2006',\n",
      " 'Director': 'Mike Newell',\n",
      " 'Genre': 'Adventure, Family, Fantasy',\n",
      " 'Language': 'English, French, Latin',\n",
      " 'Metascore': '81',\n",
      " 'Plot': 'Harry Potter finds himself competing in a hazardous tournament '\n",
      "         'between rival schools of magic, but he is distracted by recurring '\n",
      "         'nightmares.',\n",
      " 'Poster': 'https://m.media-amazon.com/images/M/MV5BMTI1NDMyMjExOF5BMl5BanBnXkFtZTcwOTc4MjQzMQ@@._V1_SX300.jpg',\n",
      " 'Production': 'N/A',\n",
      " 'Rated': 'PG-13',\n",
      " 'Ratings': [{'Source': 'Internet Movie Database', 'Value': '7.7/10'},\n",
      "             {'Source': 'Rotten Tomatoes', 'Value': '88%'},\n",
      "             {'Source': 'Metacritic', 'Value': '81/100'}],\n",
      " 'Released': '18 Nov 2005',\n",
      " 'Response': 'True',\n",
      " 'Runtime': '157 min',\n",
      " 'Title': 'Harry Potter and the Goblet of Fire',\n",
      " 'Type': 'movie',\n",
      " 'Website': 'N/A',\n",
      " 'Writer': 'Steve Kloves, J.K. Rowling',\n",
      " 'Year': '2005',\n",
      " 'imdbID': 'tt0330373',\n",
      " 'imdbRating': '7.7',\n",
      " 'imdbVotes': '641,660'}\n"
     ]
    }
   ],
   "source": [
    "# Converting the response to JSON, and printing the result.\n",
    "data_omdb = response2.json()\n",
    "pprint(data_omdb)"
   ]
  },
  {
   "attachments": {},
   "cell_type": "markdown",
   "metadata": {},
   "source": [
    "#  # MONGO for OMDB"
   ]
  },
  {
   "cell_type": "code",
   "execution_count": 161,
   "metadata": {},
   "outputs": [],
   "source": [
    "from pymongo import MongoClient"
   ]
  },
  {
   "cell_type": "code",
   "execution_count": 155,
   "metadata": {},
   "outputs": [],
   "source": [
    "# Create an instance of MongoClient\n",
    "mongo = MongoClient(port=27017)"
   ]
  },
  {
   "cell_type": "code",
   "execution_count": 168,
   "metadata": {},
   "outputs": [
    {
     "name": "stdout",
     "output_type": "stream",
     "text": [
      "['admin', 'classDB', 'config', 'epa', 'local', 'mert', 'met', 'petsitly_marketing', 'test', 'travel_db', 'uk_food']\n"
     ]
    }
   ],
   "source": [
    "# confirm that our new database was created\n",
    "print(mongo.list_database_names())"
   ]
  },
  {
   "cell_type": "code",
   "execution_count": 159,
   "metadata": {},
   "outputs": [],
   "source": [
    "# assign the database to a variable name\n",
    "movies_db = mongo['movies']"
   ]
  },
  {
   "cell_type": "code",
   "execution_count": 172,
   "metadata": {},
   "outputs": [],
   "source": [
    "# assign the collection to a variable\n",
    "MovieInfo_omdb = movies_db['MovieInfo_omdb']"
   ]
  },
  {
   "cell_type": "code",
   "execution_count": 173,
   "metadata": {},
   "outputs": [],
   "source": [
    "for id in range(len(imdb_ids)):\n",
    "    test_url = f\"http://www.omdbapi.com/?i={imdb_ids[id]}&apikey={api_key_omdb}\"\n",
    "    test_req=requests.get(test_url)\n",
    "    test_req_2 = test_req.json()\n",
    "    MovieInfo_omdb.insert_one(test_req_2)\n"
   ]
  },
  {
   "attachments": {},
   "cell_type": "markdown",
   "metadata": {},
   "source": [
    "# MONGO for TMD"
   ]
  },
  {
   "cell_type": "code",
   "execution_count": 182,
   "metadata": {},
   "outputs": [],
   "source": [
    "# assign the collection to a variable\n",
    "MovieInfo_tmdb2 = movies_db['MovieInfo_tmdb2']"
   ]
  },
  {
   "cell_type": "code",
   "execution_count": 187,
   "metadata": {},
   "outputs": [],
   "source": [
    "for id in range(len(id_lists)):\n",
    "    test_url=f\"https://api.themoviedb.org/3/movie/{id_lists[id]}?api_key={api_key_tmdb}&language=en-US\"\n",
    "    test_req=requests.get(test_url)\n",
    "    test_req_2 = test_req.json()\n",
    "    movie_dict = {}\n",
    "\n",
    "    movie_dict['imdbID']=test_req_2['imdb_id']\n",
    "    movie_dict['Vote Average']=test_req_2['vote_average']\n",
    "    movie_dict['Vote Count']=test_req_2['vote_count']\n",
    "    \n",
    "    MovieInfo_tmdb2.insert_one(movie_dict)\n",
    "\n",
    "# len(id_lists)"
   ]
  }
 ],
 "metadata": {
  "kernelspec": {
   "display_name": "Python 3",
   "language": "python",
   "name": "python3"
  },
  "language_info": {
   "codemirror_mode": {
    "name": "ipython",
    "version": 3
   },
   "file_extension": ".py",
   "mimetype": "text/x-python",
   "name": "python",
   "nbconvert_exporter": "python",
   "pygments_lexer": "ipython3",
   "version": "3.9.13"
  },
  "varInspector": {
   "cols": {
    "lenName": 16,
    "lenType": 16,
    "lenVar": 40
   },
   "kernels_config": {
    "python": {
     "delete_cmd_postfix": "",
     "delete_cmd_prefix": "del ",
     "library": "var_list.py",
     "varRefreshCmd": "print(var_dic_list())"
    },
    "r": {
     "delete_cmd_postfix": ") ",
     "delete_cmd_prefix": "rm(",
     "library": "var_list.r",
     "varRefreshCmd": "cat(var_dic_list()) "
    }
   },
   "types_to_exclude": [
    "module",
    "function",
    "builtin_function_or_method",
    "instance",
    "_Feature"
   ],
   "window_display": false
  }
 },
 "nbformat": 4,
 "nbformat_minor": 2
}
